{
 "cells": [
  {
   "cell_type": "code",
   "execution_count": 58,
   "metadata": {
    "scrolled": true
   },
   "outputs": [
    {
     "name": "stdout",
     "output_type": "stream",
     "text": [
      "inside getDataFromCSV\n",
      "inside processCSV\n",
      "num_iterations = 80000 \n",
      "Starting point at b = 3, m = 0.5, error = 1135.0561638688664\n",
      "Running...\n",
      "**** gradient_descent_runner starting\n",
      "Ending point at b = 23.497381833933044, m = 0.04655705781635231, error = 875.2625744045288\n",
      "done\n"
     ]
    }
   ],
   "source": [
    "#The optimal values of m and b can be actually calculated with way less effort than doing a linear regression. \n",
    "#this is just to demonstrate gradient descent\n",
    "\n",
    "from numpy import *\n",
    "\n",
    "# y = mx + b\n",
    "# m is slope, b is y-intercept\n",
    "def compute_error_for_line_given_points(b, m, points):\n",
    "    totalError = 0\n",
    "#    print ('len of points = {1}'.format(len(points)))\n",
    "    for i in range(0, len(points)):\n",
    "#        print (i)\n",
    "        x = points[i, 0]\n",
    "        y = points[i, 1]\n",
    "        totalError += (y - (m * x + b)) ** 2\n",
    "    return totalError / float(len(points))\n",
    "\n",
    "def step_gradient(b_current, m_current, points, learningRate):\n",
    "    b_gradient = 0\n",
    "    m_gradient = 0\n",
    "#    print('m_current = {0}, b_current = {1}'.format(m_current, b_current))\n",
    "    N = float(len(points))\n",
    "    for i in range(0, len(points)):\n",
    "        x = points[i, 0]\n",
    "        y = points[i, 1]\n",
    "        b_gradient += -(2/N) * (y - ((m_current * x) + b_current))\n",
    "        m_gradient += -(2/N) * x * (y - ((m_current * x) + b_current))\n",
    "    new_b = b_current - (learningRate * b_gradient)\n",
    "    new_m = m_current - (learningRate * m_gradient)\n",
    "    return [new_b, new_m]\n",
    "\n",
    "def gradient_descent_runner(points, starting_b, starting_m, learning_rate, num_iterations):\n",
    "    print ('**** gradient_descent_runner starting')\n",
    "    b = starting_b\n",
    "    m = starting_m\n",
    "    if(math.isnan(b)):\n",
    "        print('b isNAN')\n",
    "    if(math.isnan(starting_m)):\n",
    "        print('m isNAN')\n",
    "    for i in range(num_iterations):\n",
    "        b, m = step_gradient(b, m, array(points), learning_rate)\n",
    "    return [b, m]\n",
    "\n",
    "def getDataFromCSV(fname, dataFx=processCSV):\n",
    "    print(\"inside getDataFromCSV\")\n",
    "    points = genfromtxt(fname, usecols = (4, 5), delimiter=\",\", skip_header = 1)\n",
    "    points1 = dataFx(points)\n",
    "    return points1\n",
    "\n",
    "def processCSV(rawPoints):\n",
    "    print ('inside processCSV')\n",
    "    return rawPoints\n",
    "\n",
    "def run():\n",
    "    fname = \"moviesCost_small3.csv\"\n",
    "#    points = genfromtxt(\"data.csv\", delimiter=\",\")\n",
    "#    points = genfromtxt(fname, usecols = (4, 5), delimiter=\",\", skip_header = 1)\n",
    "#    points = getDataFromCSV(fname, processCSV)\n",
    "    points = getDataFromCSV(fname)\n",
    "    learning_rate = 0.0003\n",
    "    initial_b = 3 # initial y-intercept guess\n",
    "    initial_m = .5 # initial slope guess\n",
    "    num_iterations = 80000\n",
    "    print('num_iterations = {0} '.format(num_iterations, initial_b))\n",
    "    print ('Starting point at b = {1}, m = {2}, error = {3}'.format(num_iterations, initial_b, initial_m, compute_error_for_line_given_points(initial_b, initial_m, points)))\n",
    "    print (\"Running...\")\n",
    "    [b, m] = gradient_descent_runner(points, initial_b, initial_m, learning_rate, num_iterations)\n",
    "    print ('Ending point at b = {1}, m = {2}, error = {3}'.format(num_iterations, b, m, compute_error_for_line_given_points(b, m, points)))\n",
    "    print('done')\n",
    "\n",
    "if __name__ == \"__main__\":\n",
    "    run()\n"
   ]
  },
  {
   "cell_type": "code",
   "execution_count": null,
   "metadata": {
    "collapsed": true
   },
   "outputs": [],
   "source": []
  },
  {
   "cell_type": "code",
   "execution_count": null,
   "metadata": {
    "collapsed": true
   },
   "outputs": [],
   "source": []
  },
  {
   "cell_type": "code",
   "execution_count": null,
   "metadata": {
    "collapsed": true
   },
   "outputs": [],
   "source": []
  }
 ],
 "metadata": {
  "kernelspec": {
   "display_name": "Python 3",
   "language": "python",
   "name": "python3"
  },
  "language_info": {
   "codemirror_mode": {
    "name": "ipython",
    "version": 3
   },
   "file_extension": ".py",
   "mimetype": "text/x-python",
   "name": "python",
   "nbconvert_exporter": "python",
   "pygments_lexer": "ipython3",
   "version": "3.5.2"
  }
 },
 "nbformat": 4,
 "nbformat_minor": 2
}
